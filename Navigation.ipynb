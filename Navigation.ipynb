{
 "cells": [
  {
   "cell_type": "markdown",
   "metadata": {},
   "source": [
    "# Navigation\n",
    "\n",
    "---\n",
    "\n",
    "In this notebook, you will learn how to use the Unity ML-Agents environment for the first project of the [Deep Reinforcement Learning Nanodegree](https://www.udacity.com/course/deep-reinforcement-learning-nanodegree--nd893).\n",
    "\n",
    "### 1. Start the Environment\n",
    "\n",
    "We begin by importing some necessary packages.  If the code cell below returns an error, please revisit the project instructions to double-check that you have installed [Unity ML-Agents](https://github.com/Unity-Technologies/ml-agents/blob/master/docs/Installation.md) and [NumPy](http://www.numpy.org/)."
   ]
  },
  {
   "cell_type": "code",
   "execution_count": 1,
   "metadata": {},
   "outputs": [],
   "source": [
    "from unityagents import UnityEnvironment\n",
    "import numpy as np\n"
   ]
  },
  {
   "cell_type": "markdown",
   "metadata": {},
   "source": [
    "Next, we will start the environment!  **_Before running the code cell below_**, change the `file_name` parameter to match the location of the Unity environment that you downloaded.\n",
    "\n",
    "- **Mac**: `\"path/to/Banana.app\"`\n",
    "- **Windows** (x86): `\"path/to/Banana_Windows_x86/Banana.exe\"`\n",
    "- **Windows** (x86_64): `\"path/to/Banana_Windows_x86_64/Banana.exe\"`\n",
    "- **Linux** (x86): `\"path/to/Banana_Linux/Banana.x86\"`\n",
    "- **Linux** (x86_64): `\"path/to/Banana_Linux/Banana.x86_64\"`\n",
    "- **Linux** (x86, headless): `\"path/to/Banana_Linux_NoVis/Banana.x86\"`\n",
    "- **Linux** (x86_64, headless): `\"path/to/Banana_Linux_NoVis/Banana.x86_64\"`\n",
    "\n",
    "For instance, if you are using a Mac, then you downloaded `Banana.app`.  If this file is in the same folder as the notebook, then the line below should appear as follows:\n",
    "```\n",
    "env = UnityEnvironment(file_name=\"Banana.app\")\n",
    "```"
   ]
  },
  {
   "cell_type": "code",
   "execution_count": 2,
   "metadata": {},
   "outputs": [
    {
     "name": "stderr",
     "output_type": "stream",
     "text": [
      "INFO:unityagents:\n",
      "'Academy' started successfully!\n",
      "Unity Academy name: Academy\n",
      "        Number of Brains: 1\n",
      "        Number of External Brains : 1\n",
      "        Lesson number : 0\n",
      "        Reset Parameters :\n",
      "\t\t\n",
      "Unity brain name: BananaBrain\n",
      "        Number of Visual Observations (per agent): 0\n",
      "        Vector Observation space type: continuous\n",
      "        Vector Observation space size (per agent): 37\n",
      "        Number of stacked Vector Observation: 1\n",
      "        Vector Action space type: discrete\n",
      "        Vector Action space size (per agent): 4\n",
      "        Vector Action descriptions: , , , \n"
     ]
    }
   ],
   "source": [
    "env = UnityEnvironment(file_name=\"Banana.exe\")"
   ]
  },
  {
   "cell_type": "markdown",
   "metadata": {},
   "source": [
    "Environments contain **_brains_** which are responsible for deciding the actions of their associated agents. Here we check for the first brain available, and set it as the default brain we will be controlling from Python."
   ]
  },
  {
   "cell_type": "code",
   "execution_count": 3,
   "metadata": {},
   "outputs": [],
   "source": [
    "# get the default brain\n",
    "brain_name = env.brain_names[0]\n",
    "brain = env.brains[brain_name]"
   ]
  },
  {
   "cell_type": "markdown",
   "metadata": {},
   "source": [
    "### 2. Examine the State and Action Spaces\n",
    "\n",
    "The simulation contains a single agent that navigates a large environment.  At each time step, it has four actions at its disposal:\n",
    "- `0` - walk forward \n",
    "- `1` - walk backward\n",
    "- `2` - turn left\n",
    "- `3` - turn right\n",
    "\n",
    "The state space has `37` dimensions and contains the agent's velocity, along with ray-based perception of objects around agent's forward direction.  A reward of `+1` is provided for collecting a yellow banana, and a reward of `-1` is provided for collecting a blue banana. \n",
    "\n",
    "Run the code cell below to print some information about the environment."
   ]
  },
  {
   "cell_type": "code",
   "execution_count": 4,
   "metadata": {},
   "outputs": [
    {
     "name": "stdout",
     "output_type": "stream",
     "text": [
      "Number of agents: 1\n",
      "Number of actions: 4\n",
      "States look like: [1.         0.         0.         0.         0.84408134 0.\n",
      " 0.         1.         0.         0.0748472  0.         1.\n",
      " 0.         0.         0.25755    1.         0.         0.\n",
      " 0.         0.74177343 0.         1.         0.         0.\n",
      " 0.25854847 0.         0.         1.         0.         0.09355672\n",
      " 0.         1.         0.         0.         0.31969345 0.\n",
      " 0.        ]\n",
      "States have length: 37\n"
     ]
    }
   ],
   "source": [
    "# reset the environment\n",
    "env_info = env.reset(train_mode=True)[brain_name]\n",
    "\n",
    "# number of agents in the environment\n",
    "print('Number of agents:', len(env_info.agents))\n",
    "\n",
    "# number of actions\n",
    "action_size = brain.vector_action_space_size\n",
    "print('Number of actions:', action_size)\n",
    "\n",
    "# examine the state space \n",
    "state = env_info.vector_observations[0]\n",
    "print('States look like:', state)\n",
    "state_size = len(state)\n",
    "\n",
    "print('States have length:', state_size)"
   ]
  },
  {
   "cell_type": "markdown",
   "metadata": {},
   "source": [
    "### 3. Take Random Actions in the Environment\n",
    "\n",
    "In the next code cell, you will learn how to use the Python API to control the agent and receive feedback from the environment.\n",
    "\n",
    "Once this cell is executed, you will watch the agent's performance, if it selects an action (uniformly) at random with each time step.  A window should pop up that allows you to observe the agent, as it moves through the environment.  \n",
    "\n",
    "Of course, as part of the project, you'll have to change the code so that the agent is able to use its experience to gradually choose better actions when interacting with the environment!"
   ]
  },
  {
   "cell_type": "raw",
   "metadata": {
    "scrolled": false
   },
   "source": [
    "env_info = env.reset(train_mode=False)[brain_name] # reset the environment\n",
    "state = env_info.vector_observations[0]            # get the current state\n",
    "score = 0                                          # initialize the score\n",
    "while True:\n",
    "    action = np.random.randint(action_size)        # select an action\n",
    "    env_info = env.step(action)[brain_name]        # send the action to the environment\n",
    "    next_state = env_info.vector_observations[0]   # get the next state\n",
    "    reward = env_info.rewards[0]                   # get the reward\n",
    "    done = env_info.local_done[0]                  # see if episode has finished\n",
    "    score += reward                                # update the score\n",
    "    state = next_state                             # roll over the state to next time step\n",
    "    if done:                                       # exit loop if episode finished\n",
    "        break\n",
    "    \n",
    "print(\"Score: {}\".format(score))"
   ]
  },
  {
   "cell_type": "markdown",
   "metadata": {},
   "source": [
    "When finished, you can close the environment."
   ]
  },
  {
   "cell_type": "raw",
   "metadata": {},
   "source": [
    "env.close()"
   ]
  },
  {
   "cell_type": "markdown",
   "metadata": {},
   "source": [
    "### 4. It's Your Turn!\n",
    "\n",
    "Now it's your turn to train your own agent to solve the environment!  When training the environment, set `train_mode=True`, so that the line for resetting the environment looks like the following:\n",
    "```python\n",
    "env_info = env.reset(train_mode=True)[brain_name]\n",
    "```"
   ]
  },
  {
   "cell_type": "code",
   "execution_count": 5,
   "metadata": {},
   "outputs": [
    {
     "data": {
      "text/plain": [
       "True"
      ]
     },
     "execution_count": 5,
     "metadata": {},
     "output_type": "execute_result"
    }
   ],
   "source": [
    "import torch\n",
    "torch.cuda.is_available()"
   ]
  },
  {
   "cell_type": "code",
   "execution_count": 10,
   "metadata": {},
   "outputs": [],
   "source": [
    "from collections import deque\n",
    "import matplotlib.pyplot as plt\n",
    "%matplotlib inline\n",
    "from dqn_agent import Agent\n",
    "\n",
    "\n",
    "agent = Agent(state_size=37, action_size=4, seed=0)\n",
    "eps_start = 1.0\n",
    "eps_end=0.01\n",
    "eps_decay=0.995\n",
    "n_episodes = 501 #1800\n",
    "max_t = 10000"
   ]
  },
  {
   "cell_type": "code",
   "execution_count": null,
   "metadata": {
    "scrolled": false
   },
   "outputs": [
    {
     "name": "stdout",
     "output_type": "stream",
     "text": [
      "Episode 169\tAverage Score: 13.04\n",
      "Environment solved in 69 episodes!\tAverage Score: 13.04\n",
      "Episode 189\tAverage Score: 13.02\n",
      "Environment solved in 89 episodes!\tAverage Score: 13.02\n",
      "Episode 203\tAverage Score: 13.03\n",
      "Environment solved in 103 episodes!\tAverage Score: 13.03\n",
      "Episode 205\tAverage Score: 13.06\n",
      "Environment solved in 105 episodes!\tAverage Score: 13.06\n",
      "Episode 210\tAverage Score: 13.00\n",
      "Environment solved in 110 episodes!\tAverage Score: 13.00\n",
      "Episode 212\tAverage Score: 13.02\n",
      "Environment solved in 112 episodes!\tAverage Score: 13.02\n",
      "Episode 218\tAverage Score: 13.01\n",
      "Environment solved in 118 episodes!\tAverage Score: 13.01\n",
      "Episode 221\tAverage Score: 13.03\n",
      "Environment solved in 121 episodes!\tAverage Score: 13.03\n",
      "Episode 222\tAverage Score: 13.04\n",
      "Environment solved in 122 episodes!\tAverage Score: 13.04\n",
      "Episode 227\tAverage Score: 13.02\n",
      "Environment solved in 127 episodes!\tAverage Score: 13.02\n",
      "Episode 231\tAverage Score: 13.05\n",
      "Environment solved in 131 episodes!\tAverage Score: 13.05\n",
      "Episode 235\tAverage Score: 13.05\n",
      "Environment solved in 135 episodes!\tAverage Score: 13.05\n",
      "Episode 239\tAverage Score: 13.00\n",
      "Environment solved in 139 episodes!\tAverage Score: 13.00\n",
      "Episode 243\tAverage Score: 13.02\n",
      "Environment solved in 143 episodes!\tAverage Score: 13.02\n",
      "Episode 246\tAverage Score: 13.00\n",
      "Environment solved in 146 episodes!\tAverage Score: 13.00\n",
      "Episode 247\tAverage Score: 13.04\n",
      "Environment solved in 147 episodes!\tAverage Score: 13.04\n",
      "Episode 251\tAverage Score: 13.03\n",
      "Environment solved in 151 episodes!\tAverage Score: 13.03\n",
      "Episode 254\tAverage Score: 13.06\n",
      "Environment solved in 154 episodes!\tAverage Score: 13.06\n",
      "Episode 257\tAverage Score: 13.06\n",
      "Environment solved in 157 episodes!\tAverage Score: 13.06\n",
      "Episode 260\tAverage Score: 13.00\n",
      "Environment solved in 160 episodes!\tAverage Score: 13.00\n",
      "Episode 261\tAverage Score: 13.05\n",
      "Environment solved in 161 episodes!\tAverage Score: 13.05\n",
      "Episode 264\tAverage Score: 13.03\n",
      "Environment solved in 164 episodes!\tAverage Score: 13.03\n",
      "Episode 268\tAverage Score: 13.01\n",
      "Environment solved in 168 episodes!\tAverage Score: 13.01\n",
      "Episode 273\tAverage Score: 13.07\n",
      "Environment solved in 173 episodes!\tAverage Score: 13.07\n",
      "Episode 275\tAverage Score: 13.05\n",
      "Environment solved in 175 episodes!\tAverage Score: 13.05\n",
      "Episode 277\tAverage Score: 13.02\n",
      "Environment solved in 177 episodes!\tAverage Score: 13.02\n",
      "Episode 281\tAverage Score: 13.00\n",
      "Environment solved in 181 episodes!\tAverage Score: 13.00\n",
      "Episode 285\tAverage Score: 13.02\n",
      "Environment solved in 185 episodes!\tAverage Score: 13.02\n",
      "Episode 286\tAverage Score: 13.04\n",
      "Environment solved in 186 episodes!\tAverage Score: 13.04\n",
      "Episode 288\tAverage Score: 13.01\n",
      "Environment solved in 188 episodes!\tAverage Score: 13.01\n",
      "Episode 289\tAverage Score: 13.00\n",
      "Environment solved in 189 episodes!\tAverage Score: 13.00\n",
      "Episode 292\tAverage Score: 13.01\n",
      "Environment solved in 192 episodes!\tAverage Score: 13.01\n",
      "Episode 297\tAverage Score: 13.00\n",
      "Environment solved in 197 episodes!\tAverage Score: 13.00\n",
      "Episode 298\tAverage Score: 13.01\n",
      "Environment solved in 198 episodes!\tAverage Score: 13.01\n",
      "Episode 300\tAverage Score: 13.00\n",
      "Environment solved in 200 episodes!\tAverage Score: 13.00\n",
      "Episode 301\tAverage Score: 13.00\n",
      "Environment solved in 201 episodes!\tAverage Score: 13.00\n",
      "Episode 303\tAverage Score: 13.01\n",
      "Environment solved in 203 episodes!\tAverage Score: 13.01\n",
      "Episode 308\tAverage Score: 13.00\n",
      "Environment solved in 208 episodes!\tAverage Score: 13.00\n",
      "Episode 309\tAverage Score: 13.04\n",
      "Environment solved in 209 episodes!\tAverage Score: 13.04\n",
      "Episode 313\tAverage Score: 13.05\n",
      "Environment solved in 213 episodes!\tAverage Score: 13.05\n",
      "Episode 319\tAverage Score: 13.03\n",
      "Environment solved in 219 episodes!\tAverage Score: 13.03\n",
      "Episode 324\tAverage Score: 3.821"
     ]
    }
   ],
   "source": [
    "scores = []                        # list containing scores from each episode\n",
    "scores_window = deque(maxlen=100)  # last 100 scores\n",
    "eps = eps_start                    # initialize epsilon\n",
    "for i_episode in range(1, n_episodes+1):\n",
    "    env_info = env.reset(train_mode=True)[brain_name] # reset the environment\n",
    "    state = env_info.vector_observations[0] \n",
    "    score = 0\n",
    "    for t in range(max_t):\n",
    "        action = agent.act(state, eps)\n",
    "        env_info = env.step(action.astype(np.int32))[brain_name]  \n",
    "        next_state = env_info.vector_observations[0]   # get the next state\n",
    "        reward = env_info.rewards[0]                   # get the reward\n",
    "        done = env_info.local_done[0]                  # see if episode has finished\n",
    "        \n",
    "        agent.step(state, action, reward, next_state, done)\n",
    "        state = next_state\n",
    "        score += reward\n",
    "        if done:\n",
    "                break \n",
    "        scores_window.append(score)       # save most recent score\n",
    "        scores.append(score)              # save most recent score\n",
    "        eps = max(eps_end, eps_decay*eps) # decrease epsilon\n",
    "        print('\\rEpisode {}\\tAverage Score: {:.2f}'.format(i_episode, np.mean(scores_window)), end=\"\")\n",
    "        if i_episode % 100 == 0:\n",
    "            print('\\rEpisode {}\\tAverage Score: {:.2f}'.format(i_episode, np.mean(scores_window)),end=\"\")\n",
    "        if np.mean(scores_window)>=13.0:\n",
    "            print('\\nEnvironment solved in {:d} episodes!\\tAverage Score: {:.2f}'.format(i_episode-100, np.mean(scores_window)))\n",
    "            torch.save(agent.qnetwork_local.state_dict(), 'checkpoint.pth')\n",
    "            break\n",
    "    \n",
    "\n",
    "# plot the scores\n",
    "fig = plt.figure()\n",
    "ax = fig.add_subplot(111)\n",
    "plt.plot(np.arange(len(scores)), scores)\n",
    "plt.ylabel('Score')\n",
    "plt.xlabel('Episode #')\n",
    "plt.show()"
   ]
  },
  {
   "cell_type": "code",
   "execution_count": 9,
   "metadata": {},
   "outputs": [
    {
     "name": "stdout",
     "output_type": "stream",
     "text": [
      "Score: 17.0\n"
     ]
    }
   ],
   "source": [
    "\n",
    "agent.qnetwork_local.load_state_dict(torch.load('checkpoint.pth'))\n",
    "\n",
    "env_info = env.reset(train_mode=False)[brain_name] # reset the environment\n",
    "state = env_info.vector_observations[0]            # get the current state\n",
    "score = 0                                          # initialize the score\n",
    "while True:\n",
    "    action = agent.act(state)       # select an action\n",
    "    env_info = env.step(action.astype(np.int32))[brain_name]        # send the action to the environment\n",
    "    next_state = env_info.vector_observations[0]   # get the next state\n",
    "    reward = env_info.rewards[0]                   # get the reward\n",
    "    done = env_info.local_done[0]                  # see if episode has finished\n",
    "    score += reward                                # update the score\n",
    "    state = next_state                             # roll over the state to next time step\n",
    "    if done:                                       # exit loop if episode finished\n",
    "        break\n",
    "    \n",
    "print(\"Score: {}\".format(score))"
   ]
  },
  {
   "cell_type": "code",
   "execution_count": null,
   "metadata": {},
   "outputs": [],
   "source": [
    "env.close()"
   ]
  }
 ],
 "metadata": {
  "kernelspec": {
   "display_name": "Python 3",
   "language": "python",
   "name": "python3"
  },
  "language_info": {
   "codemirror_mode": {
    "name": "ipython",
    "version": 3
   },
   "file_extension": ".py",
   "mimetype": "text/x-python",
   "name": "python",
   "nbconvert_exporter": "python",
   "pygments_lexer": "ipython3",
   "version": "3.6.12"
  }
 },
 "nbformat": 4,
 "nbformat_minor": 2
}
